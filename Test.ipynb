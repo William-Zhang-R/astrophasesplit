{
 "cells": [
  {
   "cell_type": "code",
   "execution_count": 2,
   "id": "e54894cd-5dbf-439b-8293-09b39d9c16d4",
   "metadata": {},
   "outputs": [],
   "source": [
    "\"\"\"\n",
    "Mahalanobis distance\n",
    "\n",
    "Returns the Mahalanobis distance from a point index ih of an (N-dimensional) array Xall, with inverted covariance matrix Cinv, to the (Ndense)th nearest neighbour\n",
    "\"\"\"\n",
    "def Mahalanobis_distance(Xall,Cinv, ih, Ndense=20):\n",
    "    dall = np.zeros(Xall.shape[1])\n",
    "    for iden in range(len(dall)):\n",
    "        dall[iden] = distance.mahalanobis(Xall.T[ih],Xall.T[iden],  Cinv)\n",
    "    dN =np.sort(dall)[Ndense]\n",
    "    return dN"
   ]
  },
  {
   "cell_type": "code",
   "execution_count": null,
   "id": "86f79682-f13b-4a4b-b13d-d8c6a27fd951",
   "metadata": {},
   "outputs": [],
   "source": []
  }
 ],
 "metadata": {
  "kernelspec": {
   "display_name": "Python 3",
   "language": "python",
   "name": "python3"
  },
  "language_info": {
   "codemirror_mode": {
    "name": "ipython",
    "version": 3
   },
   "file_extension": ".py",
   "mimetype": "text/x-python",
   "name": "python",
   "nbconvert_exporter": "python",
   "pygments_lexer": "ipython3",
   "version": "3.8.8"
  }
 },
 "nbformat": 4,
 "nbformat_minor": 5
}
